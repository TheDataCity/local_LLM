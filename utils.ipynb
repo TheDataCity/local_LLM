{
  "cells": [
    {
      "cell_type": "code",
      "metadata": {},
      "source": [
        "import os\n",
        "import csv\n",
        "from datetime import datetime\n",
        "\n",
        "def log_to_csv(question, answer):\n",
        "\n",
        "    log_dir, log_file = \"local_chat_history\", \"qa_log.csv\"\n",
        "    # Ensure log directory exists, create if not\n",
        "    if not os.path.exists(log_dir):\n",
        "        os.makedirs(log_dir)\n",
        "\n",
        "    # Construct the full file path\n",
        "    log_path = os.path.join(log_dir, log_file)\n",
        "\n",
        "    # Check if file exists, if not create and write headers\n",
        "    if not os.path.isfile(log_path):\n",
        "        with open(log_path, mode='w', newline='', encoding='utf-8') as file:\n",
        "            writer = csv.writer(file)\n",
        "            writer.writerow([\"timestamp\", \"question\", \"answer\"])\n",
        "\n",
        "    # Append the log entry\n",
        "    with open(log_path, mode='a', newline='', encoding='utf-8') as file:\n",
        "        writer = csv.writer(file)\n",
        "        timestamp = datetime.now().strftime(\"%Y-%m-%d %H:%M:%S\")\n",
        "        writer.writerow([timestamp, question, answer])"
      ],
      "outputs": [],
      "execution_count": null
    }
  ],
  "metadata": {
    "anaconda-cloud": {},
    "kernelspec": {
      "display_name": "Python 3",
      "language": "python",
      "name": "python3"
    },
    "language_info": {
      "codemirror_mode": {
        "name": "ipython",
        "version": 3
      },
      "file_extension": ".py",
      "mimetype": "text/x-python",
      "name": "python",
      "nbconvert_exporter": "python",
      "pygments_lexer": "ipython3",
      "version": "3.6.1"
    }
  },
  "nbformat": 4,
  "nbformat_minor": 4
}